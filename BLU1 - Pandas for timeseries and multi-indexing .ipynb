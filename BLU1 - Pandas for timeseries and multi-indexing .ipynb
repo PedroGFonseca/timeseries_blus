{
 "cells": [
  {
   "cell_type": "markdown",
   "metadata": {},
   "source": [
    "# TODO: the example isn't great, switch to bitcoin "
   ]
  },
  {
   "cell_type": "markdown",
   "metadata": {},
   "source": [
    "----"
   ]
  },
  {
   "cell_type": "markdown",
   "metadata": {},
   "source": [
    "---"
   ]
  },
  {
   "cell_type": "markdown",
   "metadata": {},
   "source": [
    "---"
   ]
  },
  {
   "cell_type": "markdown",
   "metadata": {},
   "source": [
    "# BLU1 - Pandas for timeseries and multi-indexing "
   ]
  },
  {
   "cell_type": "markdown",
   "metadata": {},
   "source": [
    "## 1. A bit of housekeeping before we get started\n",
    "\n",
    "Welcome to timeseries! \n",
    "\n",
    "Here we will learn how to explore datasets which depend on time. As you might imagine, many processes datasts in the real world are timeseries. The stockmarket springs to mind, but also anything to do with sales or marketing, engineering processes (when will this particular turbine break, you may ask?), medical processes (what is the effect of this medication over time), and so many, many more. \n",
    "\n",
    "Now, timeseries are a less settled field than most things you've learned so far. There are many ways of doing things, and different schools of thought fighting to get _\"followers\"_. Our objective here is to avoid indoctrination, but rather to give you a bit of exposure to the super-basics of how to handle timeseries data, and making some basic but useful predictions. We will in no way try to teach you everything, but rather enough to get your hands dirty. From then on, there is the good old fashioned documentation, and hacking around. \n",
    "\n",
    "Speaking of covering only the basics, as you might know Neural Networks are becoming increasingly prevalent in the prediction of timeseries. While this is a very exciting topic, we've decided not to include Neural Networks in the Academy, for three main reasons:\n",
    "1. We want to make sure you gain a sold technical base, on which you can then later add NNs, rather than have you \"run before you can walk\" \n",
    "2. Teaching NNs is slow, as to be understood correctly there are a lot of quicks and \"best practice\" things to know, which don't necessarily have the most scientific of basis (it's still mostly an empirical field), so they do not fit well into the \"basic intuition followed by practice\" approach of the Academy \n",
    "3. There are already EXCELLENT resources to learn NNs, namely [Andrew NGs course on Coursera](https://www.google.com/url?sa=t&rct=j&q=&esrc=s&source=web&cd=1&cad=rja&uact=8&ved=0ahUKEwjVmcT5wtbaAhXHuRQKHc2yD2wQFggpMAA&url=https%3A%2F%2Fwww.coursera.org%2Fspecializations%2Fdeep-learning&usg=AOvVaw3vIqYhrM-dZQd6HUBci4QA), which are best approached after a solid technical foundation have been laid. \n",
    "\n",
    "Lastly, remember that time-series are notoriously tricky to evaluate. While with \"static\" data we can trust a few metrics and for the most part be done with it (yay _roc auc_!), in time-series the metrics tend to be more problem specific. The thing to remember is: your problems will be extra sneaky, and you will have to be extra careful. As a corolary to this, when you think you've predicted the stockmarket... you probably haven't. \n",
    "\n",
    "And now, let the fun begin! "
   ]
  },
  {
   "cell_type": "markdown",
   "metadata": {},
   "source": [
    "## Pandas for Timeseries "
   ]
  },
  {
   "cell_type": "markdown",
   "metadata": {},
   "source": [
    "In this BLU we will not learn any fancy prediction stuff, but rather how to wrangle timeseries data. "
   ]
  },
  {
   "cell_type": "markdown",
   "metadata": {},
   "source": [
    "Imports: "
   ]
  },
  {
   "cell_type": "code",
   "execution_count": 53,
   "metadata": {},
   "outputs": [],
   "source": [
    "import pandas as pd \n",
    "from matplotlib import pyplot as plt \n",
    "% matplotlib inline "
   ]
  },
  {
   "cell_type": "markdown",
   "metadata": {},
   "source": [
    "#### Timestamps "
   ]
  },
  {
   "cell_type": "markdown",
   "metadata": {},
   "source": [
    "The timestamp is the most basic form of time series indexer that Pandas has. It does exactly what the name describes: marks the exact moment in which the data was collected. \n",
    "\n",
    "While kaggle datasets and other online challenges are normally clean \"hourly\" or \"daily\" dataset, TimeStamps are how most data is normally collected in the wild! \n",
    "\n",
    "An event happens, and the time of the even is dumped into a database. \n",
    "\n",
    "Let's examine the user visits from an old social network _([BrightKite](http://snap.stanford.edu/data/loc-brightkite.html), remember them? Oh the 2000s...)_, to see what real timeseries data looks like "
   ]
  },
  {
   "cell_type": "code",
   "execution_count": 19,
   "metadata": {},
   "outputs": [],
   "source": [
    "data = pd.read_csv('data/BrightKite.csv')"
   ]
  },
  {
   "cell_type": "markdown",
   "metadata": {},
   "source": [
    "Let's take a look:"
   ]
  },
  {
   "cell_type": "code",
   "execution_count": 20,
   "metadata": {},
   "outputs": [
    {
     "data": {
      "text/html": [
       "<div>\n",
       "<style scoped>\n",
       "    .dataframe tbody tr th:only-of-type {\n",
       "        vertical-align: middle;\n",
       "    }\n",
       "\n",
       "    .dataframe tbody tr th {\n",
       "        vertical-align: top;\n",
       "    }\n",
       "\n",
       "    .dataframe thead th {\n",
       "        text-align: right;\n",
       "    }\n",
       "</style>\n",
       "<table border=\"1\" class=\"dataframe\">\n",
       "  <thead>\n",
       "    <tr style=\"text-align: right;\">\n",
       "      <th></th>\n",
       "      <th>uesr</th>\n",
       "      <th>Time</th>\n",
       "      <th>Latitude</th>\n",
       "      <th>Longitude</th>\n",
       "      <th>location_id</th>\n",
       "    </tr>\n",
       "  </thead>\n",
       "  <tbody>\n",
       "    <tr>\n",
       "      <th>0</th>\n",
       "      <td>4570</td>\n",
       "      <td>2008-03-21T20:36:21Z</td>\n",
       "      <td>40.013608</td>\n",
       "      <td>-105.247599</td>\n",
       "      <td>0ade7c2cf97f75d009975f4d720d1fa6c19f4897</td>\n",
       "    </tr>\n",
       "    <tr>\n",
       "      <th>1</th>\n",
       "      <td>12</td>\n",
       "      <td>2008-03-22T05:01:29Z</td>\n",
       "      <td>39.768753</td>\n",
       "      <td>-105.006395</td>\n",
       "      <td>7b52009b64fd0a2a49e6d8a939753077792b0554</td>\n",
       "    </tr>\n",
       "    <tr>\n",
       "      <th>2</th>\n",
       "      <td>12</td>\n",
       "      <td>2008-03-22T05:50:55Z</td>\n",
       "      <td>39.768057</td>\n",
       "      <td>-105.002983</td>\n",
       "      <td>fa35e192121eabf3dabf9f5ea6abdbcbc107ac3b</td>\n",
       "    </tr>\n",
       "    <tr>\n",
       "      <th>3</th>\n",
       "      <td>12</td>\n",
       "      <td>2008-03-22T06:17:35Z</td>\n",
       "      <td>39.768057</td>\n",
       "      <td>-105.002983</td>\n",
       "      <td>fa35e192121eabf3dabf9f5ea6abdbcbc107ac3b</td>\n",
       "    </tr>\n",
       "    <tr>\n",
       "      <th>4</th>\n",
       "      <td>12</td>\n",
       "      <td>2008-03-22T06:34:37Z</td>\n",
       "      <td>39.768057</td>\n",
       "      <td>-105.002983</td>\n",
       "      <td>fa35e192121eabf3dabf9f5ea6abdbcbc107ac3b</td>\n",
       "    </tr>\n",
       "  </tbody>\n",
       "</table>\n",
       "</div>"
      ],
      "text/plain": [
       "   uesr                  Time   Latitude   Longitude  \\\n",
       "0  4570  2008-03-21T20:36:21Z  40.013608 -105.247599   \n",
       "1    12  2008-03-22T05:01:29Z  39.768753 -105.006395   \n",
       "2    12  2008-03-22T05:50:55Z  39.768057 -105.002983   \n",
       "3    12  2008-03-22T06:17:35Z  39.768057 -105.002983   \n",
       "4    12  2008-03-22T06:34:37Z  39.768057 -105.002983   \n",
       "\n",
       "                                location_id  \n",
       "0  0ade7c2cf97f75d009975f4d720d1fa6c19f4897  \n",
       "1  7b52009b64fd0a2a49e6d8a939753077792b0554  \n",
       "2  fa35e192121eabf3dabf9f5ea6abdbcbc107ac3b  \n",
       "3  fa35e192121eabf3dabf9f5ea6abdbcbc107ac3b  \n",
       "4  fa35e192121eabf3dabf9f5ea6abdbcbc107ac3b  "
      ]
     },
     "execution_count": 20,
     "metadata": {},
     "output_type": "execute_result"
    }
   ],
   "source": [
    "data.head()"
   ]
  },
  {
   "cell_type": "markdown",
   "metadata": {},
   "source": [
    "Interesting. We have this `Time` column, that we can kind of parse by looking at it. "
   ]
  },
  {
   "cell_type": "code",
   "execution_count": 21,
   "metadata": {},
   "outputs": [
    {
     "data": {
      "text/plain": [
       "0    2008-03-21T20:36:21Z\n",
       "1    2008-03-22T05:01:29Z\n",
       "2    2008-03-22T05:50:55Z\n",
       "3    2008-03-22T06:17:35Z\n",
       "4    2008-03-22T06:34:37Z\n",
       "Name: Time, dtype: object"
      ]
     },
     "execution_count": 21,
     "metadata": {},
     "output_type": "execute_result"
    }
   ],
   "source": [
    "data.Time.head()"
   ]
  },
  {
   "cell_type": "markdown",
   "metadata": {},
   "source": [
    "We can kind of understand this. Looks like Year, month, and day, then a T, then hours, minutes, then seconds, then a Z...  "
   ]
  },
  {
   "cell_type": "markdown",
   "metadata": {},
   "source": [
    "Let's inspect a random row: "
   ]
  },
  {
   "cell_type": "code",
   "execution_count": 22,
   "metadata": {},
   "outputs": [
    {
     "name": "stdout",
     "output_type": "stream",
     "text": [
      "One of the times in our dataset: 2008-03-22T06:17:35Z\n",
      "Type of the Series (data.Time):  object\n",
      "Type of a particular time:       <class 'str'>\n"
     ]
    }
   ],
   "source": [
    "print('One of the times in our dataset: %s' % data.Time.iloc[3])\n",
    "print('Type of the Series (data.Time):  %s' % data.Time.dtype)\n",
    "print('Type of a particular time:       %s' % type(data.Time.iloc[3]))"
   ]
  },
  {
   "cell_type": "markdown",
   "metadata": {},
   "source": [
    "Ah, so these are just strings. How boring. \n",
    "\n",
    "However, pandas can do something pretty amazing with these strings: "
   ]
  },
  {
   "cell_type": "code",
   "execution_count": 23,
   "metadata": {},
   "outputs": [],
   "source": [
    "time_as_a_timestamp = pd.to_datetime(data.Time, infer_datetime_format=True)"
   ]
  },
  {
   "cell_type": "markdown",
   "metadata": {},
   "source": [
    "What is it now? "
   ]
  },
  {
   "cell_type": "code",
   "execution_count": 24,
   "metadata": {},
   "outputs": [
    {
     "data": {
      "text/plain": [
       "0   2008-03-21 20:36:21\n",
       "1   2008-03-22 05:01:29\n",
       "2   2008-03-22 05:50:55\n",
       "3   2008-03-22 06:17:35\n",
       "4   2008-03-22 06:34:37\n",
       "Name: Time, dtype: datetime64[ns]"
      ]
     },
     "execution_count": 24,
     "metadata": {},
     "output_type": "execute_result"
    }
   ],
   "source": [
    "time_as_a_timestamp.head()"
   ]
  },
  {
   "cell_type": "markdown",
   "metadata": {},
   "source": [
    "It is a `datetime64[ns]`, which I shall for the sake of simplicity just refer to as a TimeStamp. "
   ]
  },
  {
   "cell_type": "markdown",
   "metadata": {},
   "source": [
    "What can we do with this? Well, for one thing, extracting days, months etc is trivial:"
   ]
  },
  {
   "cell_type": "code",
   "execution_count": 25,
   "metadata": {},
   "outputs": [
    {
     "data": {
      "text/plain": [
       "0    21\n",
       "1    22\n",
       "2    22\n",
       "3    22\n",
       "4    22\n",
       "Name: Time, dtype: int64"
      ]
     },
     "execution_count": 25,
     "metadata": {},
     "output_type": "execute_result"
    }
   ],
   "source": [
    "time_as_a_timestamp.dt.day.head()"
   ]
  },
  {
   "cell_type": "markdown",
   "metadata": {},
   "source": [
    "Notice the nomenclature. `Series.dt.<whatever I want>`. \n",
    "\n",
    "And we can want [just about anything we can think of!](https://pandas.pydata.org/pandas-docs/stable/api.html#datetimelike-properties)"
   ]
  },
  {
   "cell_type": "code",
   "execution_count": 26,
   "metadata": {},
   "outputs": [
    {
     "data": {
      "text/html": [
       "<div>\n",
       "<style scoped>\n",
       "    .dataframe tbody tr th:only-of-type {\n",
       "        vertical-align: middle;\n",
       "    }\n",
       "\n",
       "    .dataframe tbody tr th {\n",
       "        vertical-align: top;\n",
       "    }\n",
       "\n",
       "    .dataframe thead th {\n",
       "        text-align: right;\n",
       "    }\n",
       "</style>\n",
       "<table border=\"1\" class=\"dataframe\">\n",
       "  <thead>\n",
       "    <tr style=\"text-align: right;\">\n",
       "      <th></th>\n",
       "      <th>date</th>\n",
       "      <th>day</th>\n",
       "      <th>month</th>\n",
       "      <th>year</th>\n",
       "      <th>hour</th>\n",
       "      <th>minute</th>\n",
       "      <th>second</th>\n",
       "      <th>day of the week</th>\n",
       "      <th>day of the week name</th>\n",
       "      <th>quarter</th>\n",
       "      <th>is it a leap year?</th>\n",
       "    </tr>\n",
       "  </thead>\n",
       "  <tbody>\n",
       "    <tr>\n",
       "      <th>0</th>\n",
       "      <td>2008-03-21 20:36:21</td>\n",
       "      <td>21</td>\n",
       "      <td>3</td>\n",
       "      <td>2008</td>\n",
       "      <td>20</td>\n",
       "      <td>36</td>\n",
       "      <td>21</td>\n",
       "      <td>4</td>\n",
       "      <td>Friday</td>\n",
       "      <td>1</td>\n",
       "      <td>True</td>\n",
       "    </tr>\n",
       "    <tr>\n",
       "      <th>1</th>\n",
       "      <td>2008-03-22 05:01:29</td>\n",
       "      <td>22</td>\n",
       "      <td>3</td>\n",
       "      <td>2008</td>\n",
       "      <td>5</td>\n",
       "      <td>1</td>\n",
       "      <td>29</td>\n",
       "      <td>5</td>\n",
       "      <td>Saturday</td>\n",
       "      <td>1</td>\n",
       "      <td>True</td>\n",
       "    </tr>\n",
       "    <tr>\n",
       "      <th>2</th>\n",
       "      <td>2008-03-22 05:50:55</td>\n",
       "      <td>22</td>\n",
       "      <td>3</td>\n",
       "      <td>2008</td>\n",
       "      <td>5</td>\n",
       "      <td>50</td>\n",
       "      <td>55</td>\n",
       "      <td>5</td>\n",
       "      <td>Saturday</td>\n",
       "      <td>1</td>\n",
       "      <td>True</td>\n",
       "    </tr>\n",
       "    <tr>\n",
       "      <th>3</th>\n",
       "      <td>2008-03-22 06:17:35</td>\n",
       "      <td>22</td>\n",
       "      <td>3</td>\n",
       "      <td>2008</td>\n",
       "      <td>6</td>\n",
       "      <td>17</td>\n",
       "      <td>35</td>\n",
       "      <td>5</td>\n",
       "      <td>Saturday</td>\n",
       "      <td>1</td>\n",
       "      <td>True</td>\n",
       "    </tr>\n",
       "    <tr>\n",
       "      <th>4</th>\n",
       "      <td>2008-03-22 06:34:37</td>\n",
       "      <td>22</td>\n",
       "      <td>3</td>\n",
       "      <td>2008</td>\n",
       "      <td>6</td>\n",
       "      <td>34</td>\n",
       "      <td>37</td>\n",
       "      <td>5</td>\n",
       "      <td>Saturday</td>\n",
       "      <td>1</td>\n",
       "      <td>True</td>\n",
       "    </tr>\n",
       "  </tbody>\n",
       "</table>\n",
       "</div>"
      ],
      "text/plain": [
       "                 date  day  month  year  hour  minute  second  \\\n",
       "0 2008-03-21 20:36:21   21      3  2008    20      36      21   \n",
       "1 2008-03-22 05:01:29   22      3  2008     5       1      29   \n",
       "2 2008-03-22 05:50:55   22      3  2008     5      50      55   \n",
       "3 2008-03-22 06:17:35   22      3  2008     6      17      35   \n",
       "4 2008-03-22 06:34:37   22      3  2008     6      34      37   \n",
       "\n",
       "   day of the week day of the week name  quarter  is it a leap year?  \n",
       "0                4               Friday        1                True  \n",
       "1                5             Saturday        1                True  \n",
       "2                5             Saturday        1                True  \n",
       "3                5             Saturday        1                True  \n",
       "4                5             Saturday        1                True  "
      ]
     },
     "execution_count": 26,
     "metadata": {},
     "output_type": "execute_result"
    }
   ],
   "source": [
    "# I'll make a little dataset so that we can see some of the results side by side\n",
    "new = pd.DataFrame()\n",
    "new['date'] = time_as_a_timestamp\n",
    "new['day'] = new['date'].dt.day\n",
    "new['month'] = new['date'].dt.month\n",
    "new['year'] = new['date'].dt.year\n",
    "new['hour'] = new['date'].dt.hour\n",
    "new['minute'] = new['date'].dt.minute\n",
    "new['second'] = new['date'].dt.second\n",
    "new['day of the week'] = new['date'].dt.weekday\n",
    "new['day of the week name'] = new['date'].dt.weekday_name\n",
    "new['quarter'] = new['date'].dt.quarter\n",
    "new['is it a leap year?'] = new['date'].dt.is_leap_year\n",
    "\n",
    "new.head()"
   ]
  },
  {
   "cell_type": "markdown",
   "metadata": {},
   "source": [
    "Pandas... is amazing. "
   ]
  },
  {
   "cell_type": "markdown",
   "metadata": {},
   "source": [
    "### Different date formats "
   ]
  },
  {
   "cell_type": "markdown",
   "metadata": {},
   "source": [
    "Now you may be thinking _\"hang on, was that just because the strings were exactly in the way Pandas likes them?\"_\n",
    "\n",
    "It's a fair question, and the answer is No. Pandas' [`to_datetime`](https://pandas.pydata.org/pandas-docs/stable/generated/pandas.to_datetime.html) has an `infer_datetime_format` argument which is amazingly good, and can for the most part figure out what you need from it. \n",
    "\n",
    "Let's put it to the test: "
   ]
  },
  {
   "cell_type": "code",
   "execution_count": 27,
   "metadata": {},
   "outputs": [],
   "source": [
    "# little function to sanity check our dates\n",
    "def sanity_check(dates):\n",
    "    \n",
    "    inferred_dates = pd.to_datetime(dates, infer_datetime_format=True)\n",
    "    \n",
    "    print('Our first day is   5,    and was infered as %0.0f' % inferred_dates.iloc[0].day)\n",
    "    print('Our first month is 4,    and was infered as %0.0f' % inferred_dates.iloc[0].month)\n",
    "    print('Our first year is  2007, and was infered as %0.0f' % inferred_dates.iloc[0].year)"
   ]
  },
  {
   "cell_type": "code",
   "execution_count": 28,
   "metadata": {},
   "outputs": [
    {
     "name": "stdout",
     "output_type": "stream",
     "text": [
      "Our first day is   5,    and was infered as 5\n",
      "Our first month is 4,    and was infered as 4\n",
      "Our first year is  2007, and was infered as 2007\n"
     ]
    }
   ],
   "source": [
    "american_dates = pd.Series(['04/05/2007',  # <-- April 5th, 2007\n",
    "                            '04/13/2006', \n",
    "                            '12/27/2014'])\n",
    "\n",
    "sanity_check(american_dates)"
   ]
  },
  {
   "cell_type": "code",
   "execution_count": 29,
   "metadata": {},
   "outputs": [
    {
     "name": "stdout",
     "output_type": "stream",
     "text": [
      "Our first day is   5,    and was infered as 5\n",
      "Our first month is 4,    and was infered as 4\n",
      "Our first year is  2007, and was infered as 2007\n"
     ]
    }
   ],
   "source": [
    "hyphen_separated_dates = pd.Series(['04-05-2007',  # <-- April 5th, 2007\n",
    "                            '04-13-2006', \n",
    "                            '12-27-2014'])\n",
    "\n",
    "sanity_check(hyphen_separated_dates)"
   ]
  },
  {
   "cell_type": "code",
   "execution_count": 30,
   "metadata": {},
   "outputs": [
    {
     "name": "stdout",
     "output_type": "stream",
     "text": [
      "Our first day is   5,    and was infered as 5\n",
      "Our first month is 4,    and was infered as 4\n",
      "Our first year is  2007, and was infered as 2007\n"
     ]
    }
   ],
   "source": [
    "dates_in_english = pd.Series(['April 5th, 2007',  # <-- April 5th, 2007\n",
    "                            'April 13th, 2006', \n",
    "                            'December 27th, 2014'])\n",
    "\n",
    "sanity_check(dates_in_english)"
   ]
  },
  {
   "cell_type": "code",
   "execution_count": 31,
   "metadata": {},
   "outputs": [
    {
     "name": "stdout",
     "output_type": "stream",
     "text": [
      "Our first day is   5,    and was infered as 4\n",
      "Our first month is 4,    and was infered as 5\n",
      "Our first year is  2007, and was infered as 2007\n"
     ]
    }
   ],
   "source": [
    "european_dates = pd.Series(['05/04/2007',   # <-- April 5th, 2007\n",
    "                            '13/04/2006', \n",
    "                            '27/12/2014'])\n",
    "\n",
    "sanity_check(european_dates)"
   ]
  },
  {
   "cell_type": "markdown",
   "metadata": {},
   "source": [
    "Wait... what? \n",
    "\n",
    "It turns out Pandas can infer lots of things, but Europe isn't it's strenght. Even though the second and third line clearly indicate that the month is in the middle (the 13'th can't be a month), it still gets confused. \n",
    "\n",
    "And here is where line 2 of [The Zen of Python](https://www.python.org/dev/peps/pep-0020/#id3) comes in:\n",
    "> Explicit is better than implicit "
   ]
  },
  {
   "cell_type": "code",
   "execution_count": 33,
   "metadata": {},
   "outputs": [],
   "source": [
    "inferred_dates = pd.to_datetime(european_dates, dayfirst=True)"
   ]
  },
  {
   "cell_type": "code",
   "execution_count": 34,
   "metadata": {},
   "outputs": [
    {
     "name": "stdout",
     "output_type": "stream",
     "text": [
      "Our first day is   5,    and was infered as 5\n",
      "Our first month is 4,    and was infered as 4\n",
      "Our first year is  2007, and was infered as 2007\n"
     ]
    }
   ],
   "source": [
    "print('Our first day is   5,    and was infered as %0.0f' % inferred_dates.iloc[0].day)\n",
    "print('Our first month is 4,    and was infered as %0.0f' % inferred_dates.iloc[0].month)\n",
    "print('Our first year is  2007, and was infered as %0.0f' % inferred_dates.iloc[0].year)"
   ]
  },
  {
   "cell_type": "markdown",
   "metadata": {},
   "source": [
    "_(disclaimer: I wanted to use [this quote](http://www.blog.indiareads.com/wp-content/uploads/2015/06/arthur-weasley-harry-potter.jpg), but the Zen of Python seemed more appropriate)_"
   ]
  },
  {
   "cell_type": "markdown",
   "metadata": {},
   "source": [
    "## Resampling "
   ]
  },
  {
   "cell_type": "markdown",
   "metadata": {},
   "source": [
    "Now, back to our data. Let's try to ask some useful questions, such as \n",
    "> \"_How did the use of the social network evolve over time?_\""
   ]
  },
  {
   "cell_type": "code",
   "execution_count": 35,
   "metadata": {},
   "outputs": [
    {
     "data": {
      "text/html": [
       "<div>\n",
       "<style scoped>\n",
       "    .dataframe tbody tr th:only-of-type {\n",
       "        vertical-align: middle;\n",
       "    }\n",
       "\n",
       "    .dataframe tbody tr th {\n",
       "        vertical-align: top;\n",
       "    }\n",
       "\n",
       "    .dataframe thead th {\n",
       "        text-align: right;\n",
       "    }\n",
       "</style>\n",
       "<table border=\"1\" class=\"dataframe\">\n",
       "  <thead>\n",
       "    <tr style=\"text-align: right;\">\n",
       "      <th></th>\n",
       "      <th>uesr</th>\n",
       "      <th>Time</th>\n",
       "      <th>Latitude</th>\n",
       "      <th>Longitude</th>\n",
       "      <th>location_id</th>\n",
       "    </tr>\n",
       "  </thead>\n",
       "  <tbody>\n",
       "    <tr>\n",
       "      <th>0</th>\n",
       "      <td>4570</td>\n",
       "      <td>2008-03-21T20:36:21Z</td>\n",
       "      <td>40.013608</td>\n",
       "      <td>-105.247599</td>\n",
       "      <td>0ade7c2cf97f75d009975f4d720d1fa6c19f4897</td>\n",
       "    </tr>\n",
       "    <tr>\n",
       "      <th>1</th>\n",
       "      <td>12</td>\n",
       "      <td>2008-03-22T05:01:29Z</td>\n",
       "      <td>39.768753</td>\n",
       "      <td>-105.006395</td>\n",
       "      <td>7b52009b64fd0a2a49e6d8a939753077792b0554</td>\n",
       "    </tr>\n",
       "    <tr>\n",
       "      <th>2</th>\n",
       "      <td>12</td>\n",
       "      <td>2008-03-22T05:50:55Z</td>\n",
       "      <td>39.768057</td>\n",
       "      <td>-105.002983</td>\n",
       "      <td>fa35e192121eabf3dabf9f5ea6abdbcbc107ac3b</td>\n",
       "    </tr>\n",
       "    <tr>\n",
       "      <th>3</th>\n",
       "      <td>12</td>\n",
       "      <td>2008-03-22T06:17:35Z</td>\n",
       "      <td>39.768057</td>\n",
       "      <td>-105.002983</td>\n",
       "      <td>fa35e192121eabf3dabf9f5ea6abdbcbc107ac3b</td>\n",
       "    </tr>\n",
       "    <tr>\n",
       "      <th>4</th>\n",
       "      <td>12</td>\n",
       "      <td>2008-03-22T06:34:37Z</td>\n",
       "      <td>39.768057</td>\n",
       "      <td>-105.002983</td>\n",
       "      <td>fa35e192121eabf3dabf9f5ea6abdbcbc107ac3b</td>\n",
       "    </tr>\n",
       "  </tbody>\n",
       "</table>\n",
       "</div>"
      ],
      "text/plain": [
       "   uesr                  Time   Latitude   Longitude  \\\n",
       "0  4570  2008-03-21T20:36:21Z  40.013608 -105.247599   \n",
       "1    12  2008-03-22T05:01:29Z  39.768753 -105.006395   \n",
       "2    12  2008-03-22T05:50:55Z  39.768057 -105.002983   \n",
       "3    12  2008-03-22T06:17:35Z  39.768057 -105.002983   \n",
       "4    12  2008-03-22T06:34:37Z  39.768057 -105.002983   \n",
       "\n",
       "                                location_id  \n",
       "0  0ade7c2cf97f75d009975f4d720d1fa6c19f4897  \n",
       "1  7b52009b64fd0a2a49e6d8a939753077792b0554  \n",
       "2  fa35e192121eabf3dabf9f5ea6abdbcbc107ac3b  \n",
       "3  fa35e192121eabf3dabf9f5ea6abdbcbc107ac3b  \n",
       "4  fa35e192121eabf3dabf9f5ea6abdbcbc107ac3b  "
      ]
     },
     "execution_count": 35,
     "metadata": {},
     "output_type": "execute_result"
    }
   ],
   "source": [
    "data.head()"
   ]
  },
  {
   "cell_type": "markdown",
   "metadata": {},
   "source": [
    "Let's start by making the timestamp the index. This is common good practice, for reasons we shall soon see. "
   ]
  },
  {
   "cell_type": "code",
   "execution_count": 36,
   "metadata": {},
   "outputs": [],
   "source": [
    "data.set_index(pd.to_datetime(data.Time, infer_datetime_format=True), \n",
    "               inplace=True) "
   ]
  },
  {
   "cell_type": "markdown",
   "metadata": {},
   "source": [
    "Also good practice once you have your datetime index, is to sort it. "
   ]
  },
  {
   "cell_type": "code",
   "execution_count": 45,
   "metadata": {},
   "outputs": [],
   "source": [
    "data.sort_index(inplace=True)"
   ]
  },
  {
   "cell_type": "markdown",
   "metadata": {},
   "source": [
    "One hacky way to try to answer the question would be to see the cumulative sum over time: "
   ]
  },
  {
   "cell_type": "code",
   "execution_count": 48,
   "metadata": {},
   "outputs": [],
   "source": [
    "data['counter'] = 1"
   ]
  },
  {
   "cell_type": "code",
   "execution_count": 69,
   "metadata": {},
   "outputs": [
    {
     "data": {
      "image/png": "[encoded data removed]",
      "text/plain": [
       "<Figure size 432x288 with 1 Axes>"
      ]
     },
     "metadata": {},
     "output_type": "display_data"
    }
   ],
   "source": [
    "data['counter'].cumsum().plot()\n",
    "plt.title('Numbero of visits')\n",
    "plt.show()\n",
    "\n",
    "# just getting rid of this hack so we don't carry it with us \n",
    "data.drop('counter', axis=1, inplace=True)"
   ]
  },
  {
   "cell_type": "markdown",
   "metadata": {},
   "source": [
    "Useful, to a point, but we can do much better. Pandas has an excellent [resample](https://pandas.pydata.org/pandas-docs/stable/generated/pandas.DataFrame.resample.html) method. Think of it as a [groupby](https://pandas.pydata.org/pandas-docs/stable/generated/pandas.DataFrame.groupby.html), for timeseries.  "
   ]
  },
  {
   "cell_type": "code",
   "execution_count": 70,
   "metadata": {},
   "outputs": [
    {
     "data": {
      "text/plain": [
       "DatetimeIndexResampler [freq=<Day>, axis=0, closed=left, label=left, convention=start, base=0]"
      ]
     },
     "execution_count": 70,
     "metadata": {},
     "output_type": "execute_result"
    }
   ],
   "source": [
    "data.resample('d')"
   ]
  },
  {
   "cell_type": "markdown",
   "metadata": {},
   "source": [
    "What can we do with this object? "
   ]
  },
  {
   "cell_type": "code",
   "execution_count": 73,
   "metadata": {},
   "outputs": [],
   "source": [
    "# groupby day, and count \n",
    "resampled_count = data.resample('d').count()"
   ]
  },
  {
   "cell_type": "code",
   "execution_count": 74,
   "metadata": {},
   "outputs": [
    {
     "data": {
      "text/html": [
       "<div>\n",
       "<style scoped>\n",
       "    .dataframe tbody tr th:only-of-type {\n",
       "        vertical-align: middle;\n",
       "    }\n",
       "\n",
       "    .dataframe tbody tr th {\n",
       "        vertical-align: top;\n",
       "    }\n",
       "\n",
       "    .dataframe thead th {\n",
       "        text-align: right;\n",
       "    }\n",
       "</style>\n",
       "<table border=\"1\" class=\"dataframe\">\n",
       "  <thead>\n",
       "    <tr style=\"text-align: right;\">\n",
       "      <th></th>\n",
       "      <th>uesr</th>\n",
       "      <th>Time</th>\n",
       "      <th>Latitude</th>\n",
       "      <th>Longitude</th>\n",
       "      <th>location_id</th>\n",
       "    </tr>\n",
       "    <tr>\n",
       "      <th>Time</th>\n",
       "      <th></th>\n",
       "      <th></th>\n",
       "      <th></th>\n",
       "      <th></th>\n",
       "      <th></th>\n",
       "    </tr>\n",
       "  </thead>\n",
       "  <tbody>\n",
       "    <tr>\n",
       "      <th>2008-03-21</th>\n",
       "      <td>1</td>\n",
       "      <td>1</td>\n",
       "      <td>1</td>\n",
       "      <td>1</td>\n",
       "      <td>1</td>\n",
       "    </tr>\n",
       "    <tr>\n",
       "      <th>2008-03-22</th>\n",
       "      <td>12</td>\n",
       "      <td>12</td>\n",
       "      <td>12</td>\n",
       "      <td>12</td>\n",
       "      <td>12</td>\n",
       "    </tr>\n",
       "    <tr>\n",
       "      <th>2008-03-23</th>\n",
       "      <td>5</td>\n",
       "      <td>5</td>\n",
       "      <td>5</td>\n",
       "      <td>5</td>\n",
       "      <td>5</td>\n",
       "    </tr>\n",
       "    <tr>\n",
       "      <th>2008-03-24</th>\n",
       "      <td>8</td>\n",
       "      <td>8</td>\n",
       "      <td>8</td>\n",
       "      <td>8</td>\n",
       "      <td>8</td>\n",
       "    </tr>\n",
       "    <tr>\n",
       "      <th>2008-03-25</th>\n",
       "      <td>11</td>\n",
       "      <td>11</td>\n",
       "      <td>11</td>\n",
       "      <td>11</td>\n",
       "      <td>11</td>\n",
       "    </tr>\n",
       "  </tbody>\n",
       "</table>\n",
       "</div>"
      ],
      "text/plain": [
       "            uesr  Time  Latitude  Longitude  location_id\n",
       "Time                                                    \n",
       "2008-03-21     1     1         1          1            1\n",
       "2008-03-22    12    12        12         12           12\n",
       "2008-03-23     5     5         5          5            5\n",
       "2008-03-24     8     8         8          8            8\n",
       "2008-03-25    11    11        11         11           11"
      ]
     },
     "execution_count": 74,
     "metadata": {},
     "output_type": "execute_result"
    }
   ],
   "source": [
    "resampled_count.head()"
   ]
  },
  {
   "cell_type": "code",
   "execution_count": null,
   "metadata": {},
   "outputs": [],
   "source": []
  },
  {
   "cell_type": "markdown",
   "metadata": {},
   "source": [
    "-----"
   ]
  },
  {
   "cell_type": "code",
   "execution_count": null,
   "metadata": {},
   "outputs": [],
   "source": [
    "bitcoin = pd.read_csv('data/bitcoin/coinbaseUSD_1-min_data_2014-12-01_to_2018-03-27.csv')"
   ]
  },
  {
   "cell_type": "code",
   "execution_count": null,
   "metadata": {},
   "outputs": [],
   "source": [
    "pd.to_datetime(bitcoin.Timestamp, unit='s').shape"
   ]
  },
  {
   "cell_type": "code",
   "execution_count": null,
   "metadata": {},
   "outputs": [],
   "source": [
    "df['date'] = pd.to_datetime(df['date'],unit='s')"
   ]
  }
 ],
 "metadata": {
  "kernelspec": {
   "display_name": "Python 3",
   "language": "python",
   "name": "python3"
  }
 },
 "nbformat": 4,
 "nbformat_minor": 2
}
